{
 "metadata": {
  "name": "",
  "signature": "sha256:cc46cf7628ae43a2dd70526cb32736b1c749be410e5bdb6d56dcb15653231605"
 },
 "nbformat": 3,
 "nbformat_minor": 0,
 "worksheets": [
  {
   "cells": [
    {
     "cell_type": "markdown",
     "metadata": {},
     "source": [
      "Summary of the talk:"
     ]
    },
    {
     "cell_type": "heading",
     "level": 1,
     "metadata": {},
     "source": [
      "Build your own light saber!\n",
      "\n"
     ]
    },
    {
     "cell_type": "markdown",
     "metadata": {},
     "source": [
      "![](files/yoda.jpg)\n",
      "\n",
      "Phrase lifted from an excellent talk by Sam Aaron\n",
      "\n",
      "[Zen and the Art of Live Programming](http://www.infoq.com/presentations/Live-Programming)\n",
      "\n",
      "(I got there via [this post from Tom Ballinger](http://ballingt.com/2013/12/21/bpython-curtsies.html), thanks Tom!)"
     ]
    },
    {
     "cell_type": "heading",
     "level": 1,
     "metadata": {},
     "source": [
      "vim-ipython\n"
     ]
    },
    {
     "cell_type": "markdown",
     "metadata": {},
     "source": [
      "http://github.com/ivanov/vim-ipython"
     ]
    },
    {
     "cell_type": "heading",
     "level": 1,
     "metadata": {},
     "source": [
      "SciPy 2011"
     ]
    },
    {
     "cell_type": "markdown",
     "metadata": {},
     "source": [
      "![](/files/scipy2011.jpg)\n",
      "<!-- ![](/files/dwf.png) --> "
     ]
    },
    {
     "cell_type": "heading",
     "level": 1,
     "metadata": {},
     "source": [
      " "
     ]
    },
    {
     "cell_type": "markdown",
     "metadata": {},
     "source": [
      "The way to get something done, sit down and talk during the sprints"
     ]
    },
    {
     "cell_type": "markdown",
     "metadata": {},
     "source": [
      "![](/files/2011.jpg)"
     ]
    },
    {
     "cell_type": "heading",
     "level": 1,
     "metadata": {},
     "source": [
      "with the help of Min Ragan-Kelley"
     ]
    },
    {
     "cell_type": "markdown",
     "metadata": {},
     "source": [
      "![](files/minrk.png)"
     ]
    },
    {
     "cell_type": "code",
     "collapsed": false,
     "input": [],
     "language": "python",
     "metadata": {},
     "outputs": []
    },
    {
     "cell_type": "markdown",
     "metadata": {},
     "source": [
      "\n",
      "How? IPython prto\n",
      "\n",
      "![protocol](files/protocol.png)\n",
      "\n",
      "More details in this talk:\n",
      "\n",
      "**The IPython protocol, frontends and kernels. **\n",
      "\n",
      "Paul Ivanov and Thomas Kluyver, PyData SV 2014\n",
      "\n",
      "( [video](https://www.youtube.com/watch?v=QPimD4gL0ak) ) ( \n",
      "[slides](http://nbviewer.ipython.org/github/ipython/front-to-back/blob/master/Frontends.ipynb) )"
     ]
    },
    {
     "cell_type": "code",
     "collapsed": false,
     "input": [],
     "language": "python",
     "metadata": {},
     "outputs": []
    },
    {
     "cell_type": "code",
     "collapsed": false,
     "input": [],
     "language": "python",
     "metadata": {},
     "outputs": [
      {
       "javascript": [
        "require([\"/static/components/codemirror/keymap/emacs.js\"],\n",
        "     function (emacs) { \n",
        "         to('emacs'); \n",
        "         console.log('emacs.js loaded'); \n",
        "     });"
       ],
       "metadata": {},
       "output_type": "display_data",
       "text": [
        "<IPython.core.display.Javascript at 0x7f1f11976950>"
       ]
      }
     ],
     "prompt_number": 28
    },
    {
     "cell_type": "markdown",
     "metadata": {},
     "source": [
      "We use CodeMirror in IPython. CodeMirror supports both `vim` and `emacs` keyboard shortcuts, but you have to enable them. \n",
      "Here's how you do that in the notebook."
     ]
    },
    {
     "cell_type": "code",
     "collapsed": false,
     "input": [
      "%%javascript\n",
      "// change the mode of all current and future CodeMirror instances\n",
      "function to(mode) {\n",
      "    var mode = mode || 'vim'\n",
      "    // first let's apply vim mode to all current cells\n",
      "    function to_mode(c) { return c.code_mirror.setOption('keyMap', mode);};\n",
      "    IPython.notebook.get_cells().map(to_mode);\n",
      "    // apply the mode to future cells created\n",
      "    IPython.Cell.options_default.cm_config.keyMap = mode;\n",
      "}\n",
      "\n",
      "require([\"/static/components/codemirror/keymap/vim.js\"],\n",
      "     function (vim) { \n",
      "         to('vim'); \n",
      "         console.log('emacs.js loaded'); \n",
      "     });"
     ],
     "language": "python",
     "metadata": {},
     "outputs": []
    },
    {
     "cell_type": "code",
     "collapsed": false,
     "input": [
      "What's coming:\n",
      "\n",
      "vim-ipython:\n",
      "    editing notebooks"
     ],
     "language": "python",
     "metadata": {},
     "outputs": []
    },
    {
     "cell_type": "code",
     "collapsed": false,
     "input": [],
     "language": "python",
     "metadata": {},
     "outputs": []
    },
    {
     "cell_type": "heading",
     "level": 1,
     "metadata": {},
     "source": [
      "So go forth and build your own lightsaber!"
     ]
    },
    {
     "cell_type": "markdown",
     "metadata": {},
     "source": [
      "![](files/saber.jpg)"
     ]
    },
    {
     "cell_type": "heading",
     "level": 2,
     "metadata": {},
     "source": [
      "Emacs users?!"
     ]
    },
    {
     "cell_type": "markdown",
     "metadata": {},
     "source": [
      "Sam Aaron's [Zen and the Art of Live Programming](http://www.infoq.com/presentations/Live-Programming)\n",
      "\n",
      "John Kitchin's [Emacs + org-mode + python in reproducible research](https://www.youtube.com/watch?v=1-dUkyn_fZA) (SciPy 2013)\n",
      "\n",
      "John has a dovetailing follow-up talk this year: \"A success story in using Python in a graduate chemical engineering course.\" This room 2:15 p.m.\u20132:45 p.m."
     ]
    },
    {
     "cell_type": "markdown",
     "metadata": {},
     "source": [
      "We use CodeMirror in IPython. CodeMirror supports both `vim` and `emacs` keyboard shortcuts, but you have to enable them. \n",
      "Here's how you do that in the notebook."
     ]
    },
    {
     "cell_type": "code",
     "collapsed": false,
     "input": [
      "%%javascript\n",
      "// change the mode of all current and future CodeMirror instances\n",
      "function to(mode) {\n",
      "    var mode = mode || 'vim'\n",
      "    // first let's apply vim mode to all current cells\n",
      "    function to_mode(c) { return c.code_mirror.setOption('keyMap', mode);};\n",
      "    IPython.notebook.get_cells().map(to_mode);\n",
      "    // apply the mode to future cells created\n",
      "    IPython.Cell.options_default.cm_config.keyMap = mode;\n",
      "}\n",
      "\n",
      "require([\"/static/components/codemirror/keymap/emacs.js\"],\n",
      "     function (emacs) { \n",
      "         to('emacs'); \n",
      "         console.log('emacs.js loaded'); \n",
      "     });"
     ],
     "language": "python",
     "metadata": {},
     "outputs": []
    },
    {
     "cell_type": "markdown",
     "metadata": {},
     "source": [
      "Then, for you, just put a call of: to('emacs') in that curly\n",
      "braces of that function (emacs) callback from earlier (that\n",
      "function's what will be called after the emacs.js file is\n",
      "actually loaded, because trying to call it before that won't\n",
      "work. So your solution should look something like this:"
     ]
    },
    {
     "cell_type": "code",
     "collapsed": false,
     "input": [],
     "language": "python",
     "metadata": {},
     "outputs": []
    },
    {
     "cell_type": "code",
     "collapsed": false,
     "input": [],
     "language": "python",
     "metadata": {},
     "outputs": []
    },
    {
     "cell_type": "code",
     "collapsed": false,
     "input": [],
     "language": "python",
     "metadata": {},
     "outputs": []
    },
    {
     "cell_type": "code",
     "collapsed": false,
     "input": [],
     "language": "python",
     "metadata": {},
     "outputs": []
    },
    {
     "cell_type": "code",
     "collapsed": false,
     "input": [],
     "language": "python",
     "metadata": {},
     "outputs": []
    },
    {
     "cell_type": "code",
     "collapsed": false,
     "input": [],
     "language": "python",
     "metadata": {},
     "outputs": []
    },
    {
     "cell_type": "code",
     "collapsed": false,
     "input": [],
     "language": "python",
     "metadata": {},
     "outputs": []
    },
    {
     "cell_type": "code",
     "collapsed": false,
     "input": [
      "pwd "
     ],
     "language": "python",
     "metadata": {},
     "outputs": [
      {
       "metadata": {},
       "output_type": "pyout",
       "prompt_number": 9,
       "text": [
        "u'/home/pi/cur/scipy2014'"
       ]
      }
     ],
     "prompt_number": 9
    },
    {
     "cell_type": "markdown",
     "metadata": {},
     "source": [
      "%%javascript \n",
      "require(['files/jsobject']"
     ]
    },
    {
     "cell_type": "code",
     "collapsed": false,
     "input": [
      "from jsobject import JSObject\n",
      "window = JSObject()"
     ],
     "language": "python",
     "metadata": {},
     "outputs": [
      {
       "javascript": [
        "window.jq = $;\n",
        "\n",
        "var kernel = IPython.notebook.kernel;\n",
        "var ws_host = kernel.ws_host;\n",
        "var make_guid = IPython.utils.uuid;\n",
        "var is_immutable = function (x) { return !(x instanceof Object); };\n",
        "var last_cell = null;\n",
        "\n",
        "var instance_register = {}; // GUID -> Instance\n",
        "\n",
        "// console.log(ajax_url);\n",
        "// console.log($.ajax(ajax_url, {async: false}));\n",
        "\n",
        "var get_guid = function(instance) {\n",
        "    if (instance._guid === undefined) {\n",
        "        var guid = make_guid();\n",
        "        instance._guid = guid;\n",
        "        instance_register[guid] = instance;\n",
        "    }\n",
        "    return instance._guid;\n",
        "};\n",
        "\n",
        "var comm_opened = function (comm, msg) {\n",
        "    var call_count = 0;\n",
        "\n",
        "    var results_cache = {};\n",
        "\n",
        "    var send = function(original_msg, content) {\n",
        "        var cell = IPython.notebook.get_msg_cell(original_msg.parent_header.msg_id) || last_cell;\n",
        "        last_cell = cell;\n",
        "        var handle_output = null;\n",
        "        var handle_clear_output = null;\n",
        "        if (cell && cell.output_area) {\n",
        "            handle_output = $.proxy(cell.output_area.handle_output, cell.output_area);\n",
        "            handle_clear_output = $.proxy(cell.output_area.handle_clear_output, cell.output_area);\n",
        "        }\n",
        "\n",
        "        // Create callback dict using what is known\n",
        "        var callbacks = {\n",
        "            iopub : {\n",
        "                output : handle_output,\n",
        "                clear_output : handle_clear_output,\n",
        "            },\n",
        "        };\n",
        "        comm.send(content, callbacks);\n",
        "    };\n",
        "\n",
        "    var encode = function (index, results) {\n",
        "        var response = null;\n",
        "        if (is_immutable(results)) {\n",
        "            response = {\n",
        "                index: index,\n",
        "                immutable: true,\n",
        "                value: results\n",
        "            };\n",
        "        } else {\n",
        "            response = {\n",
        "                index: index,\n",
        "                immutable: false,\n",
        "                value: get_guid(results)\n",
        "            };\n",
        "        }\n",
        "        return response;\n",
        "    };\n",
        "\n",
        "    var results_response = function (msg, index, results) {\n",
        "        if (results === undefined) {\n",
        "            results = null;\n",
        "        }\n",
        "        send(msg, encode(index, results));\n",
        "    };\n",
        "\n",
        "    var get_object = function(msg, x, timeout) {\n",
        "        timeout = timeout || 3000;\n",
        "        var obj;\n",
        "        if (x.immutable) {\n",
        "            obj = x.value;\n",
        "        } else {\n",
        "            obj = instance_register[x.value];\n",
        "        }\n",
        "\n",
        "        if (x.callback) {\n",
        "\n",
        "            var callback = function () {\n",
        "                var encoded = [];\n",
        "                for (var i = 0; i < arguments.length; i++) {\n",
        "                    var argument = arguments[i];\n",
        "                    encoded.push(encode(call_count, argument));\n",
        "                }\n",
        "                send(msg, {\n",
        "                    'callback': x.callback,\n",
        "                    'index': call_count,\n",
        "                    'arguments': encoded});\n",
        "\n",
        "\n",
        "                call_count++;\n",
        "                return null; // TODO: Return value here.\n",
        "            };\n",
        "\n",
        "            if (obj === null || obj === undefined) {\n",
        "                return callback;\n",
        "            } else {\n",
        "\n",
        "                // Make the object callable!\n",
        "                Object.setPrototypeOf(obj, Object.getPrototypeOf(callback));\n",
        "                Object.setPrototypeOf(callback, obj);\n",
        "                return callback;\n",
        "            }\n",
        "\n",
        "        }\n",
        "        return obj;\n",
        "    };\n",
        "\n",
        "    var get_objects = function(msg, x) {\n",
        "        var values = [];\n",
        "        for (var i = 0; i < x.length; i++) {\n",
        "            values.push(get_object(msg, x[i]));\n",
        "        }\n",
        "        return values;\n",
        "    };\n",
        "\n",
        "    var on_comm_msg = function(msg) {\n",
        "        var data = msg.content.data;\n",
        "        \n",
        "        // method\n",
        "        // parent\n",
        "        // child\n",
        "        // value\n",
        "        // args\n",
        "        // index\n",
        "        if (data.method == 'getattr') {\n",
        "            if (data.parent === '') {\n",
        "                results_response(msg, data.index, window[data.child]);\n",
        "            } else {\n",
        "                results_response(msg, data.index, instance_register[data.parent][data.child]);\n",
        "            }\n",
        "        } else if (data.method == 'setattr') {\n",
        "            if (data.parent === '') {\n",
        "                window[data.child] = get_object(msg, data.value);\n",
        "            } else {\n",
        "                instance_register[data.parent][data.child] = get_object(msg, data.value);\n",
        "            }\n",
        "            results_response(msg, data.index, true);\n",
        "        } else if (data.method == 'return') {\n",
        "            var index = data.index;\n",
        "            var results = data.results;\n",
        "            results_cache[index] = results;\n",
        "        } else if (data.method == 'apply') {\n",
        "            var parent = window;\n",
        "            if (data.parent !== '') {\n",
        "                parent = instance_register[data.parent];\n",
        "            }\n",
        "            var instance = instance_register[data.function];\n",
        "            results_response(msg, data.index, instance.apply(parent, get_objects(msg, data.args)));\n",
        "        }\n",
        "    };\n",
        "    comm.on_msg(on_comm_msg);\n",
        "};\n",
        "\n",
        "IPython.notebook.kernel.comm_manager.register_target('BrowserContext', comm_opened);\n"
       ],
       "metadata": {},
       "output_type": "display_data",
       "text": [
        "<IPython.core.display.Javascript at 0x7f1f11976610>"
       ]
      }
     ],
     "prompt_number": 21
    },
    {
     "cell_type": "code",
     "collapsed": false,
     "input": [
      "from __future__ import print_function"
     ],
     "language": "python",
     "metadata": {},
     "outputs": [],
     "prompt_number": 22
    },
    {
     "cell_type": "code",
     "collapsed": false,
     "input": [
      "window.console._log = window.console.log"
     ],
     "language": "python",
     "metadata": {},
     "outputs": [],
     "prompt_number": 23
    },
    {
     "cell_type": "code",
     "collapsed": false,
     "input": [
      "\n",
      "def tee(x):\n",
      "    print(x)\n",
      "    window.console._log(x)\n",
      "    \n",
      "window.console.log = tee"
     ],
     "language": "python",
     "metadata": {},
     "outputs": [
      {
       "output_type": "stream",
       "stream": "stdout",
       "text": [
        "toggling full screen mode\n"
       ]
      },
      {
       "output_type": "stream",
       "stream": "stdout",
       "text": [
        "toggling full screen mode\n"
       ]
      },
      {
       "output_type": "stream",
       "stream": "stdout",
       "text": [
        "yo!\n"
       ]
      },
      {
       "output_type": "stream",
       "stream": "stdout",
       "text": [
        "emacs.js loaded\n"
       ]
      }
     ],
     "prompt_number": 24
    },
    {
     "cell_type": "code",
     "collapsed": false,
     "input": [
      "import IPython\n",
      "IPython.__version__\n"
     ],
     "language": "python",
     "metadata": {},
     "outputs": [
      {
       "metadata": {},
       "output_type": "pyout",
       "prompt_number": 2,
       "text": [
        "'2.1.0'"
       ]
      }
     ],
     "prompt_number": 2
    },
    {
     "cell_type": "code",
     "collapsed": false,
     "input": [
      "%load jsobject.js"
     ],
     "language": "python",
     "metadata": {},
     "outputs": [],
     "prompt_number": 3
    },
    {
     "cell_type": "code",
     "collapsed": false,
     "input": [],
     "language": "python",
     "metadata": {},
     "outputs": []
    },
    {
     "cell_type": "code",
     "collapsed": false,
     "input": [],
     "language": "python",
     "metadata": {},
     "outputs": []
    }
   ],
   "metadata": {}
  }
 ]
}